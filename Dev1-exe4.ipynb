{
 "cells": [
  {
   "cell_type": "code",
   "execution_count": 1,
   "metadata": {},
   "outputs": [],
   "source": [
    "#Auteur : Andre-Viet Tran\n",
    "#Devoir1 - Exercice4"
   ]
  },
  {
   "cell_type": "code",
   "execution_count": 5,
   "metadata": {},
   "outputs": [],
   "source": [
    "using JuMP\n",
    "using CPLEX"
   ]
  },
  {
   "cell_type": "code",
   "execution_count": 6,
   "metadata": {},
   "outputs": [
    {
     "name": "stdout",
     "output_type": "stream",
     "text": [
      "Max 0.8 x1 + 0.8 x2 + 0.6 x3 + 0.6 x4\n",
      "Subject to\n",
      " x1 >= 0.0\n",
      " x2 >= 0.0\n",
      " x3 >= 0.0\n",
      " x4 >= 0.0\n",
      " x1 + x3 <= 5000.0\n",
      " x2 + x4 <= 10000.0\n",
      " 0.8 x1 - 0.8 x2 <= 0.0\n",
      " 0.1 x3 - 0.9 x4 <= 0.0\n",
      "\n"
     ]
    },
    {
     "data": {
      "text/latex": [
       "$$ \\begin{alignat*}{1}\\max\\quad & 0.8 x1 + 0.8 x2 + 0.6 x3 + 0.6 x4\\\\\n",
       "\\text{Subject to} \\quad & x1 \\geq 0.0\\\\\n",
       " & x2 \\geq 0.0\\\\\n",
       " & x3 \\geq 0.0\\\\\n",
       " & x4 \\geq 0.0\\\\\n",
       " & x1 + x3 \\leq 5000.0\\\\\n",
       " & x2 + x4 \\leq 10000.0\\\\\n",
       " & 0.8 x1 - 0.8 x2 \\leq 0.0\\\\\n",
       " & 0.1 x3 - 0.9 x4 \\leq 0.0\\\\\n",
       "\\end{alignat*}\n",
       " $$"
      ],
      "text/plain": [
       "A JuMP Model\n",
       "Maximization problem with:\n",
       "Variables: 4\n",
       "Objective function type: GenericAffExpr{Float64,VariableRef}\n",
       "`VariableRef`-in-`MathOptInterface.GreaterThan{Float64}`: 4 constraints\n",
       "`GenericAffExpr{Float64,VariableRef}`-in-`MathOptInterface.LessThan{Float64}`: 4 constraints\n",
       "Model mode: AUTOMATIC\n",
       "CachingOptimizer state: EMPTY_OPTIMIZER\n",
       "Solver name: CPLEX\n",
       "Names registered in the model: ProportionE, ProportionP, QuantiteA, QuantiteB, x1, x2, x3, x4"
      ]
     },
     "execution_count": 6,
     "metadata": {},
     "output_type": "execute_result"
    }
   ],
   "source": [
    "Model1 = Model(with_optimizer(CPLEX.Optimizer))\n",
    "@variable(Model1, x1 >= 0) #X1=Xea\n",
    "@variable(Model1, x2 >= 0) #X2=Xeb\n",
    "@variable(Model1, x3 >= 0) #X3=Xpa\n",
    "@variable(Model1, x4 >= 0) #X4=Xpb\n",
    "\n",
    "@objective(Model1, Max, 0.8*(x1+x2)+0.6*(x3+x4)) #Fonction objectif\n",
    "\n",
    "@constraint(Model1, QuantiteA, x1 + x3 <= 5000) #contrainte de la capacite de tomates A\n",
    "@constraint(Model1, QuantiteB, x2 + x4 <= 10000) #contrainte de la capacite de tomates B\n",
    "@constraint(Model1, ProportionE, 0.8*x1 - 0.8*x2 <= 0) #contrainte des tomates entieres\n",
    "@constraint(Model1, ProportionP, 0.1*x3 - 0.9*x4 <= 0) #contrainte de la pate a tomate\n",
    "\n",
    "println(Model1)\n",
    "Model1"
   ]
  },
  {
   "cell_type": "code",
   "execution_count": 7,
   "metadata": {},
   "outputs": [
    {
     "name": "stdout",
     "output_type": "stream",
     "text": [
      "Tried aggregator 1 time.\r\n",
      "Aggregator did 1 substitutions.\r\n",
      "Reduced LP has 3 rows, 3 columns, and 6 nonzeros.\r\n",
      "Presolve time = 0.02 sec. (0.00 ticks)\r\n",
      "\r\n",
      "Iteration log . . .\r\n",
      "Iteration:     1   Dual infeasibility =             0.199999\r\n"
     ]
    }
   ],
   "source": [
    "optimize!(Model1)"
   ]
  },
  {
   "cell_type": "code",
   "execution_count": 8,
   "metadata": {},
   "outputs": [
    {
     "data": {
      "text/plain": [
       "OPTIMAL::TerminationStatusCode = 1"
      ]
     },
     "execution_count": 8,
     "metadata": {},
     "output_type": "execute_result"
    }
   ],
   "source": [
    "termination_status(Model1)"
   ]
  },
  {
   "cell_type": "code",
   "execution_count": 9,
   "metadata": {},
   "outputs": [
    {
     "name": "stdout",
     "output_type": "stream",
     "text": [
      "Solution Xea : 5000.0\n",
      "Solution Xeb : 10000.0\n",
      "Solution Xpa : 0.0\n",
      "Solution Xpb : 0.0\n"
     ]
    }
   ],
   "source": [
    "println(\"Solution Xea : \", value.(x1))\n",
    "println(\"Solution Xeb : \", value.(x2))\n",
    "println(\"Solution Xpa : \", value.(x3))\n",
    "println(\"Solution Xpb : \", value.(x4))"
   ]
  },
  {
   "cell_type": "code",
   "execution_count": 10,
   "metadata": {},
   "outputs": [
    {
     "name": "stdout",
     "output_type": "stream",
     "text": [
      "Valeur optimale : 12000.0\n"
     ]
    }
   ],
   "source": [
    "println(\"Valeur optimale : \", objective_value(Model1))"
   ]
  },
  {
   "cell_type": "code",
   "execution_count": null,
   "metadata": {},
   "outputs": [],
   "source": []
  }
 ],
 "metadata": {
  "kernelspec": {
   "display_name": "Julia 1.1.1",
   "language": "julia",
   "name": "julia-1.1"
  },
  "language_info": {
   "file_extension": ".jl",
   "mimetype": "application/julia",
   "name": "julia",
   "version": "1.1.1"
  }
 },
 "nbformat": 4,
 "nbformat_minor": 2
}
